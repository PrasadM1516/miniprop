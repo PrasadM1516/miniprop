{
 "cells": [
  {
   "cell_type": "code",
   "execution_count": 2,
   "id": "f12786bb-cd96-4e0b-a718-8d0a171ada76",
   "metadata": {},
   "outputs": [],
   "source": [
    "import nltk\n",
    "from nltk import word_tokenize,sent_tokenize,pos_tag\n",
    "from nltk.corpus import stopwords\n",
    "from nltk.stem import PorterStemmer,WordNetLemmatizer\n",
    "from sklearn.feature_extraction.text import TfidfVectorizer"
   ]
  },
  {
   "cell_type": "code",
   "execution_count": 3,
   "id": "483dcce8-7d8d-4d71-b9d7-b8f1ec7adfb7",
   "metadata": {},
   "outputs": [
    {
     "name": "stderr",
     "output_type": "stream",
     "text": [
      "[nltk_data] Downloading package stopwords to\n",
      "[nltk_data]     C:\\Users\\prasa\\AppData\\Roaming\\nltk_data...\n",
      "[nltk_data]   Unzipping corpora\\stopwords.zip.\n",
      "[nltk_data] Downloading package wordnet to\n",
      "[nltk_data]     C:\\Users\\prasa\\AppData\\Roaming\\nltk_data...\n",
      "[nltk_data] Downloading package punkt to\n",
      "[nltk_data]     C:\\Users\\prasa\\AppData\\Roaming\\nltk_data...\n",
      "[nltk_data]   Package punkt is already up-to-date!\n",
      "[nltk_data] Downloading package averaged_perceptron_tagger to\n",
      "[nltk_data]     C:\\Users\\prasa\\AppData\\Roaming\\nltk_data...\n",
      "[nltk_data]   Unzipping taggers\\averaged_perceptron_tagger.zip.\n",
      "[nltk_data] Downloading package tagsets to\n",
      "[nltk_data]     C:\\Users\\prasa\\AppData\\Roaming\\nltk_data...\n",
      "[nltk_data]   Unzipping help\\tagsets.zip.\n"
     ]
    },
    {
     "data": {
      "text/plain": [
       "True"
      ]
     },
     "execution_count": 3,
     "metadata": {},
     "output_type": "execute_result"
    }
   ],
   "source": [
    "nltk.download(\"stopwords\")\n",
    "nltk.download(\"wordnet\")\n",
    "nltk.download(\"punkt\")\n",
    "nltk.download(\"averaged_perceptron_tagger\")\n",
    "nltk.download(\"tagsets\")"
   ]
  },
  {
   "cell_type": "code",
   "execution_count": 4,
   "id": "cdc32bb6-ef68-4f27-978d-e05e97c0478b",
   "metadata": {},
   "outputs": [],
   "source": [
    "text = \"Formula One (commonly known as Formula 1 or F1) is a type of motorsport. Teams compete in a series of Grand Prix races, held in different countries around the world. Some of the most popular races are held in Monaco, Singapore, Italy and Britain. The Formula One cars are very fast, they reach speeds of up to 351.7 km/ hour (218.5 mph). The championship has been won by many different teams, including McLaren, Ferrari and Williams. Teams can have as many as 600 people. The teams all come together every race weekend. They use the expertise of each member try to win the race. The winning driver and team each get twenty-five points towards the Drivers' and Constructors' Championship. Teams consist of drivers, test drivers, a team principal, mechanics, engineers, and designers. Winning a race is affected by a good starting position, strategy, skill in pitstops and a fast car. \""
   ]
  },
  {
   "cell_type": "code",
   "execution_count": 5,
   "id": "a89d9ad1-c352-4414-9ca3-fddc5e8167db",
   "metadata": {},
   "outputs": [
    {
     "name": "stdout",
     "output_type": "stream",
     "text": [
      "['Formula', 'One', '(', 'commonly', 'known', 'as', 'Formula', '1', 'or', 'F1', ')', 'is', 'a', 'type', 'of', 'motorsport', '.', 'Teams', 'compete', 'in', 'a', 'series', 'of', 'Grand', 'Prix', 'races', ',', 'held', 'in', 'different', 'countries', 'around', 'the', 'world', '.', 'Some', 'of', 'the', 'most', 'popular', 'races', 'are', 'held', 'in', 'Monaco', ',', 'Singapore', ',', 'Italy', 'and', 'Britain', '.', 'The', 'Formula', 'One', 'cars', 'are', 'very', 'fast', ',', 'they', 'reach', 'speeds', 'of', 'up', 'to', '351.7', 'km/', 'hour', '(', '218.5', 'mph', ')', '.', 'The', 'championship', 'has', 'been', 'won', 'by', 'many', 'different', 'teams', ',', 'including', 'McLaren', ',', 'Ferrari', 'and', 'Williams', '.', 'Teams', 'can', 'have', 'as', 'many', 'as', '600', 'people', '.', 'The', 'teams', 'all', 'come', 'together', 'every', 'race', 'weekend', '.', 'They', 'use', 'the', 'expertise', 'of', 'each', 'member', 'try', 'to', 'win', 'the', 'race', '.', 'The', 'winning', 'driver', 'and', 'team', 'each', 'get', 'twenty-five', 'points', 'towards', 'the', 'Drivers', \"'\", 'and', 'Constructors', \"'\", 'Championship', '.', 'Teams', 'consist', 'of', 'drivers', ',', 'test', 'drivers', ',', 'a', 'team', 'principal', ',', 'mechanics', ',', 'engineers', ',', 'and', 'designers', '.', 'Winning', 'a', 'race', 'is', 'affected', 'by', 'a', 'good', 'starting', 'position', ',', 'strategy', ',', 'skill', 'in', 'pitstops', 'and', 'a', 'fast', 'car', '.']\n"
     ]
    }
   ],
   "source": [
    "tokens = word_tokenize(text)\n",
    "print(tokens)"
   ]
  },
  {
   "cell_type": "code",
   "execution_count": 7,
   "id": "74408219-b29c-4600-98b1-2c81d5414426",
   "metadata": {},
   "outputs": [
    {
     "name": "stdout",
     "output_type": "stream",
     "text": [
      "['Formula One (commonly known as Formula 1 or F1) is a type of motorsport.', 'Teams compete in a series of Grand Prix races, held in different countries around the world.', 'Some of the most popular races are held in Monaco, Singapore, Italy and Britain.', 'The Formula One cars are very fast, they reach speeds of up to 351.7 km/ hour (218.5 mph).', 'The championship has been won by many different teams, including McLaren, Ferrari and Williams.', 'Teams can have as many as 600 people.', 'The teams all come together every race weekend.', 'They use the expertise of each member try to win the race.', \"The winning driver and team each get twenty-five points towards the Drivers' and Constructors' Championship.\", 'Teams consist of drivers, test drivers, a team principal, mechanics, engineers, and designers.', 'Winning a race is affected by a good starting position, strategy, skill in pitstops and a fast car.']\n"
     ]
    }
   ],
   "source": [
    "tokens1 = sent_tokenize(text)\n",
    "print(tokens1)"
   ]
  },
  {
   "cell_type": "code",
   "execution_count": 8,
   "id": "91149965-b8fe-4039-a5d9-d9bf73b5b919",
   "metadata": {},
   "outputs": [
    {
     "name": "stdout",
     "output_type": "stream",
     "text": [
      "[('Formula', 'NNP'), ('One', 'NNP'), ('(', '('), ('commonly', 'RB'), ('known', 'VBN'), ('as', 'IN'), ('Formula', 'NNP'), ('1', 'CD'), ('or', 'CC'), ('F1', 'NNP'), (')', ')'), ('is', 'VBZ'), ('a', 'DT'), ('type', 'NN'), ('of', 'IN'), ('motorsport', 'NN'), ('.', '.'), ('Teams', 'NNP'), ('compete', 'VBP'), ('in', 'IN'), ('a', 'DT'), ('series', 'NN'), ('of', 'IN'), ('Grand', 'NNP'), ('Prix', 'NNP'), ('races', 'NNS'), (',', ','), ('held', 'VBD'), ('in', 'IN'), ('different', 'JJ'), ('countries', 'NNS'), ('around', 'IN'), ('the', 'DT'), ('world', 'NN'), ('.', '.'), ('Some', 'DT'), ('of', 'IN'), ('the', 'DT'), ('most', 'RBS'), ('popular', 'JJ'), ('races', 'NNS'), ('are', 'VBP'), ('held', 'VBN'), ('in', 'IN'), ('Monaco', 'NNP'), (',', ','), ('Singapore', 'NNP'), (',', ','), ('Italy', 'NNP'), ('and', 'CC'), ('Britain', 'NNP'), ('.', '.'), ('The', 'DT'), ('Formula', 'NNP'), ('One', 'CD'), ('cars', 'NNS'), ('are', 'VBP'), ('very', 'RB'), ('fast', 'RB'), (',', ','), ('they', 'PRP'), ('reach', 'VBP'), ('speeds', 'NNS'), ('of', 'IN'), ('up', 'IN'), ('to', 'TO'), ('351.7', 'CD'), ('km/', 'NNS'), ('hour', 'NN'), ('(', '('), ('218.5', 'CD'), ('mph', 'NN'), (')', ')'), ('.', '.'), ('The', 'DT'), ('championship', 'NN'), ('has', 'VBZ'), ('been', 'VBN'), ('won', 'VBN'), ('by', 'IN'), ('many', 'JJ'), ('different', 'JJ'), ('teams', 'NNS'), (',', ','), ('including', 'VBG'), ('McLaren', 'NNP'), (',', ','), ('Ferrari', 'NNP'), ('and', 'CC'), ('Williams', 'NNP'), ('.', '.'), ('Teams', 'NNS'), ('can', 'MD'), ('have', 'VB'), ('as', 'RB'), ('many', 'JJ'), ('as', 'IN'), ('600', 'CD'), ('people', 'NNS'), ('.', '.'), ('The', 'DT'), ('teams', 'NNS'), ('all', 'DT'), ('come', 'VBP'), ('together', 'RB'), ('every', 'DT'), ('race', 'NN'), ('weekend', 'NN'), ('.', '.'), ('They', 'PRP'), ('use', 'VBP'), ('the', 'DT'), ('expertise', 'NN'), ('of', 'IN'), ('each', 'DT'), ('member', 'NN'), ('try', 'NN'), ('to', 'TO'), ('win', 'VB'), ('the', 'DT'), ('race', 'NN'), ('.', '.'), ('The', 'DT'), ('winning', 'VBG'), ('driver', 'NN'), ('and', 'CC'), ('team', 'NN'), ('each', 'DT'), ('get', 'VB'), ('twenty-five', 'JJ'), ('points', 'NNS'), ('towards', 'IN'), ('the', 'DT'), ('Drivers', 'NNP'), (\"'\", 'POS'), ('and', 'CC'), ('Constructors', 'NNP'), (\"'\", 'POS'), ('Championship', 'NNP'), ('.', '.'), ('Teams', 'NNP'), ('consist', 'NN'), ('of', 'IN'), ('drivers', 'NNS'), (',', ','), ('test', 'NN'), ('drivers', 'NNS'), (',', ','), ('a', 'DT'), ('team', 'NN'), ('principal', 'NN'), (',', ','), ('mechanics', 'NNS'), (',', ','), ('engineers', 'NNS'), (',', ','), ('and', 'CC'), ('designers', 'NNS'), ('.', '.'), ('Winning', 'VBG'), ('a', 'DT'), ('race', 'NN'), ('is', 'VBZ'), ('affected', 'VBN'), ('by', 'IN'), ('a', 'DT'), ('good', 'JJ'), ('starting', 'NN'), ('position', 'NN'), (',', ','), ('strategy', 'NN'), (',', ','), ('skill', 'NN'), ('in', 'IN'), ('pitstops', 'NNS'), ('and', 'CC'), ('a', 'DT'), ('fast', 'JJ'), ('car', 'NN'), ('.', '.')]\n"
     ]
    }
   ],
   "source": [
    "tagged_tokens = pos_tag(tokens)\n",
    "print(tagged_tokens)"
   ]
  },
  {
   "cell_type": "code",
   "execution_count": 9,
   "id": "4668f0a9-30a9-4034-b207-5b1fff390078",
   "metadata": {},
   "outputs": [
    {
     "name": "stdout",
     "output_type": "stream",
     "text": [
      "{\"wasn't\", 'myself', \"won't\", 'why', 'which', 'with', 'because', \"hasn't\", 'these', 'own', \"shan't\", 'to', 'there', 'or', \"you've\", 'yours', 'as', \"doesn't\", 're', 'hers', 'of', \"don't\", 'wouldn', 'had', 'the', 'isn', 'up', 'both', 'hadn', 'nor', 'will', \"haven't\", 'from', \"should've\", 'you', 'our', \"you'll\", 'most', 'can', 'for', 'how', 'be', 'does', 'weren', 'just', 'while', 'this', 'should', 'did', 'too', 'm', 'are', 'couldn', 'same', 'if', 'before', \"you're\", 'any', 'not', 'until', 'ourselves', 'your', 'such', 'each', 'haven', 'below', 've', 'out', 'against', 'she', \"hadn't\", 'only', 'yourself', 'down', 'wasn', 'on', 'herself', 'been', 'ours', 'ain', \"couldn't\", 'it', \"needn't\", 'at', 'very', 'her', \"that'll\", 'aren', 'an', 'during', 'o', 'd', 'those', 'more', 'through', \"weren't\", 'again', 'theirs', \"shouldn't\", 'having', 'ma', 'them', 'didn', \"mightn't\", 'who', 'we', 'what', 'themselves', 'once', 'all', 'but', 'he', 'him', 'i', 'doing', 'under', 'and', 'by', 'few', 'they', 'where', 'a', 'my', 'into', 'other', 'has', 'over', 'above', 'in', 'off', 'so', 'is', 'about', \"she's\", 'now', 'y', 'when', 'mightn', 'itself', 'me', 'was', \"mustn't\", \"aren't\", 'that', 'between', 's', 't', 'some', 'being', 'hasn', 'doesn', 'have', \"you'd\", 'mustn', \"it's\", 'yourselves', 'don', 'further', \"wouldn't\", 'himself', 'its', 'after', 'll', 'needn', 'were', 'shan', 'am', 'do', 'their', 'then', 'his', 'shouldn', 'won', 'whom', \"isn't\", 'here', 'no', 'than', \"didn't\"}\n"
     ]
    }
   ],
   "source": [
    "stop_words = set(stopwords.words(\"english\"))\n",
    "print(stop_words)"
   ]
  },
  {
   "cell_type": "code",
   "execution_count": 10,
   "id": "39114d6c-4adc-42b1-a552-ea9984e31502",
   "metadata": {},
   "outputs": [
    {
     "name": "stdout",
     "output_type": "stream",
     "text": [
      "['Formula', 'One', '(', 'commonly', 'known', 'Formula', '1', 'F1', ')', 'type', 'motorsport', '.', 'Teams', 'compete', 'series', 'Grand', 'Prix', 'races', ',', 'held', 'different', 'countries', 'around', 'world', '.', 'Some', 'popular', 'races', 'held', 'Monaco', ',', 'Singapore', ',', 'Italy', 'Britain', '.', 'The', 'Formula', 'One', 'cars', 'fast', ',', 'reach', 'speeds', '351.7', 'km/', 'hour', '(', '218.5', 'mph', ')', '.', 'The', 'championship', 'many', 'different', 'teams', ',', 'including', 'McLaren', ',', 'Ferrari', 'Williams', '.', 'Teams', 'many', '600', 'people', '.', 'The', 'teams', 'come', 'together', 'every', 'race', 'weekend', '.', 'They', 'use', 'expertise', 'member', 'try', 'win', 'race', '.', 'The', 'winning', 'driver', 'team', 'get', 'twenty-five', 'points', 'towards', 'Drivers', \"'\", 'Constructors', \"'\", 'Championship', '.', 'Teams', 'consist', 'drivers', ',', 'test', 'drivers', ',', 'team', 'principal', ',', 'mechanics', ',', 'engineers', ',', 'designers', '.', 'Winning', 'race', 'affected', 'good', 'starting', 'position', ',', 'strategy', ',', 'skill', 'pitstops', 'fast', 'car', '.']\n"
     ]
    }
   ],
   "source": [
    "no_stopwords_text = []\n",
    "for token in tokens:\n",
    "    if token not in stop_words:\n",
    "        no_stopwords_text.append(token)\n",
    "\n",
    "print(no_stopwords_text)"
   ]
  },
  {
   "cell_type": "code",
   "execution_count": 11,
   "id": "94b126ad-bcdf-490e-ab46-3dc1c05d7a0f",
   "metadata": {},
   "outputs": [
    {
     "name": "stdout",
     "output_type": "stream",
     "text": [
      "['formula', 'one', '(', 'commonli', 'known', 'formula', '1', 'f1', ')', 'type', 'motorsport', '.', 'team', 'compet', 'seri', 'grand', 'prix', 'race', ',', 'held', 'differ', 'countri', 'around', 'world', '.', 'some', 'popular', 'race', 'held', 'monaco', ',', 'singapor', ',', 'itali', 'britain', '.', 'the', 'formula', 'one', 'car', 'fast', ',', 'reach', 'speed', '351.7', 'km/', 'hour', '(', '218.5', 'mph', ')', '.', 'the', 'championship', 'mani', 'differ', 'team', ',', 'includ', 'mclaren', ',', 'ferrari', 'william', '.', 'team', 'mani', '600', 'peopl', '.', 'the', 'team', 'come', 'togeth', 'everi', 'race', 'weekend', '.', 'they', 'use', 'expertis', 'member', 'tri', 'win', 'race', '.', 'the', 'win', 'driver', 'team', 'get', 'twenty-f', 'point', 'toward', 'driver', \"'\", 'constructor', \"'\", 'championship', '.', 'team', 'consist', 'driver', ',', 'test', 'driver', ',', 'team', 'princip', ',', 'mechan', ',', 'engin', ',', 'design', '.', 'win', 'race', 'affect', 'good', 'start', 'posit', ',', 'strategi', ',', 'skill', 'pitstop', 'fast', 'car', '.']\n"
     ]
    }
   ],
   "source": [
    "stemmer = PorterStemmer()\n",
    "stemmed_words = []\n",
    "for token in no_stopwords_text:\n",
    "    stemmed_word = stemmer.stem(token)\n",
    "    stemmed_words.append(stemmed_word)\n",
    "\n",
    "print(stemmed_words)"
   ]
  },
  {
   "cell_type": "code",
   "execution_count": 12,
   "id": "62f79ff1-40d2-4355-a7b2-b8afcde95752",
   "metadata": {},
   "outputs": [
    {
     "name": "stdout",
     "output_type": "stream",
     "text": [
      "['Formula', 'One', '(', 'commonly', 'known', 'Formula', '1', 'F1', ')', 'type', 'motorsport', '.', 'Teams', 'compete', 'series', 'Grand', 'Prix', 'race', ',', 'held', 'different', 'country', 'around', 'world', '.', 'Some', 'popular', 'race', 'held', 'Monaco', ',', 'Singapore', ',', 'Italy', 'Britain', '.', 'The', 'Formula', 'One', 'car', 'fast', ',', 'reach', 'speed', '351.7', 'km/', 'hour', '(', '218.5', 'mph', ')', '.', 'The', 'championship', 'many', 'different', 'team', ',', 'including', 'McLaren', ',', 'Ferrari', 'Williams', '.', 'Teams', 'many', '600', 'people', '.', 'The', 'team', 'come', 'together', 'every', 'race', 'weekend', '.', 'They', 'use', 'expertise', 'member', 'try', 'win', 'race', '.', 'The', 'winning', 'driver', 'team', 'get', 'twenty-five', 'point', 'towards', 'Drivers', \"'\", 'Constructors', \"'\", 'Championship', '.', 'Teams', 'consist', 'driver', ',', 'test', 'driver', ',', 'team', 'principal', ',', 'mechanic', ',', 'engineer', ',', 'designer', '.', 'Winning', 'race', 'affected', 'good', 'starting', 'position', ',', 'strategy', ',', 'skill', 'pitstops', 'fast', 'car', '.']\n"
     ]
    }
   ],
   "source": [
    "lemmatizer = WordNetLemmatizer()\n",
    "lemmatized_words = []\n",
    "for token in no_stopwords_text:\n",
    "    lemmatized_word = lemmatizer.lemmatize(token)\n",
    "    lemmatized_words.append(lemmatized_word)\n",
    "\n",
    "print(lemmatized_words)"
   ]
  },
  {
   "cell_type": "code",
   "execution_count": 13,
   "id": "6e56020f-bb3f-40f5-bd7b-7d55c5f17043",
   "metadata": {},
   "outputs": [],
   "source": [
    "vectorizer = TfidfVectorizer()"
   ]
  },
  {
   "cell_type": "code",
   "execution_count": 14,
   "id": "afdf6acb-f89a-4645-8f0a-b1b3972403eb",
   "metadata": {},
   "outputs": [],
   "source": [
    "corpus = [\n",
    "    \"I love to eat pizza\",\n",
    "    \"Pizza is my favorite food\",\n",
    "    \"I enjoy eating pizza with friends\",\n",
    "    \"I like to have pizza for dinner\",\n",
    "    \"Pizza toppings include cheese, pepperoni, and mushrooms\"\n",
    "]"
   ]
  },
  {
   "cell_type": "code",
   "execution_count": 16,
   "id": "721131b1-8504-4efb-86f6-9263289440e7",
   "metadata": {},
   "outputs": [
    {
     "name": "stdout",
     "output_type": "stream",
     "text": [
      "[[0.         0.         0.         0.58946308 0.         0.\n",
      "  0.         0.         0.         0.         0.         0.\n",
      "  0.         0.         0.58946308 0.         0.         0.\n",
      "  0.28088232 0.4755751  0.         0.        ]\n",
      " [0.         0.         0.         0.         0.         0.\n",
      "  0.48638585 0.48638585 0.         0.         0.         0.\n",
      "  0.48638585 0.         0.         0.         0.48638585 0.\n",
      "  0.23176546 0.         0.         0.        ]\n",
      " [0.         0.         0.         0.         0.48638585 0.48638585\n",
      "  0.         0.         0.         0.48638585 0.         0.\n",
      "  0.         0.         0.         0.         0.         0.\n",
      "  0.23176546 0.         0.         0.48638585]\n",
      " [0.         0.         0.45277275 0.         0.         0.\n",
      "  0.         0.         0.45277275 0.         0.45277275 0.\n",
      "  0.         0.45277275 0.         0.         0.         0.\n",
      "  0.21574864 0.36529421 0.         0.        ]\n",
      " [0.40073619 0.40073619 0.         0.         0.         0.\n",
      "  0.         0.         0.         0.         0.         0.40073619\n",
      "  0.         0.         0.         0.40073619 0.         0.40073619\n",
      "  0.19095294 0.         0.40073619 0.        ]]\n"
     ]
    }
   ],
   "source": [
    "tfidf_matrix = vectorizer.fit_transform(corpus)\n",
    "print(tfidf_matrix.toarray())"
   ]
  },
  {
   "cell_type": "code",
   "execution_count": 17,
   "id": "a5261155-058a-4eef-b5d3-14bdcd3601d7",
   "metadata": {},
   "outputs": [
    {
     "name": "stdout",
     "output_type": "stream",
     "text": [
      "['and' 'cheese' 'dinner' 'eat' 'eating' 'enjoy' 'favorite' 'food' 'for'\n",
      " 'friends' 'have' 'include' 'is' 'like' 'love' 'mushrooms' 'my'\n",
      " 'pepperoni' 'pizza' 'to' 'toppings' 'with']\n"
     ]
    }
   ],
   "source": [
    "feature_names = vectorizer.get_feature_names_out()\n",
    "print(feature_names)"
   ]
  },
  {
   "cell_type": "code",
   "execution_count": null,
   "id": "6596fed6-86c1-45a7-be02-eea303eb30e5",
   "metadata": {},
   "outputs": [],
   "source": []
  }
 ],
 "metadata": {
  "kernelspec": {
   "display_name": "Python 3 (ipykernel)",
   "language": "python",
   "name": "python3"
  },
  "language_info": {
   "codemirror_mode": {
    "name": "ipython",
    "version": 3
   },
   "file_extension": ".py",
   "mimetype": "text/x-python",
   "name": "python",
   "nbconvert_exporter": "python",
   "pygments_lexer": "ipython3",
   "version": "3.12.1"
  }
 },
 "nbformat": 4,
 "nbformat_minor": 5
}
